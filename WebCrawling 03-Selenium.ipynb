{
 "cells": [
  {
   "cell_type": "code",
   "execution_count": 14,
   "metadata": {},
   "outputs": [],
   "source": [
    "from selenium import webdriver\n",
    "\n",
    "# 브라우저 드라이버 연결\n",
    "driver = webdriver.Chrome(\"chromedriver.exe\")\n",
    "\n",
    "# naver 접속\n",
    "driver.get(\"http://www.naver.com\")\n",
    "# 잠시 대기\n",
    "driver.implicitly_wait(3)\n",
    "driver.page_source\n",
    "\n",
    "#로그인 버튼 : #account > a -SELECTOR\n",
    "\n",
    "btn_login = driver.find_element_by_css_selector(\"#account > a\")\n",
    "# btn_login\n",
    "\n",
    "#클릭\n",
    "btn_login.click()\n",
    "\n",
    "# 아이디 필드 -> #id\n",
    "# 비밀번호 필드 -> #pw\n",
    "input_id = driver.find_element_by_css_selector(\"#id\")\n",
    "#키보드 입력\n",
    "input_id.send_keys(\"v2404v\")\n",
    "input_pw = driver.find_element_by_css_selector(\"#pw\")\n",
    "input_pw.send_keys(\"연습용password\")\n",
    "\n",
    "# 로그인 버튼 찾아서 클릭하기 \n",
    "# #log\\.login\n",
    "btn_login = driver.find_element_by_css_selector(\"#log\\.login\")\n",
    "btn_login.click()"
   ]
  },
  {
   "cell_type": "code",
   "execution_count": 25,
   "metadata": {},
   "outputs": [],
   "source": [
    "# ----연습\n",
    "# 1. naver.com 접속\n",
    "# 2. 검색어 창에 검색어 입력\n",
    "# 3. 검색버튼 클릭\n",
    "# 4. 소스 확인하여 탐색\n",
    "\n",
    "from selenium import webdriver\n",
    "\n",
    "# 브라우저 드라이버 연결\n",
    "driver = webdriver.Chrome(\"chromedriver.exe\")\n",
    "driver.get(\"http://www.naver.com\")\n",
    "\n",
    "# #query\n",
    "input_keyword = driver.find_element_by_css_selector(\"#query\")\n",
    "input_keyword.send_keys(\"코로나\")\n",
    "\n",
    "# 검색 버튼 찾아서 클릭\n",
    "# #search_btn\n",
    "btn_search = driver.find_element_by_css_selector(\"#search_btn\")\n",
    "btn_search.click()\n",
    "\n",
    "# div.production_main > div > div.main_detail_bx > div:nth-child(2) > div.button_area > div > a:nth-child(2)\n",
    "btn_1 = driver.find_element_by_css_selector(\"div.production_main > div > div.main_detail_bx > div:nth-child(2) > div.button_area > div > a:nth-child(2)\") \n",
    "btn_1.click()\n",
    "\n"
   ]
  }
 ],
 "metadata": {
  "kernelspec": {
   "display_name": "Python 3",
   "language": "python",
   "name": "python3"
  },
  "language_info": {
   "codemirror_mode": {
    "name": "ipython",
    "version": 3
   },
   "file_extension": ".py",
   "mimetype": "text/x-python",
   "name": "python",
   "nbconvert_exporter": "python",
   "pygments_lexer": "ipython3",
   "version": "3.8.2"
  }
 },
 "nbformat": 4,
 "nbformat_minor": 4
}
