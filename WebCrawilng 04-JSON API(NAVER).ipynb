{
 "cells": [
  {
   "cell_type": "code",
   "execution_count": null,
   "metadata": {},
   "outputs": [],
   "source": [
    
    "# API : https://openapi.naver.com/v1/search/news.json\n",
    "\n",
    "import urllib \n",
    "# Header에 아이디와 시크릿을 실어서 전송\n",
    "# 검색어 인코딩\n",
    "enc_text = urllib.parse.quote('코로나')\n",
    "print(\"인코딩된 검색어:\", enc_text)\n",
    "\n",
    "url = \"https://openapi.naver.com/v1/search/news.json?query={}\".format(enc_text)\n",
    "print(\"end-point:\",url)\n",
    "\n",
    "client_id = \"0fStuD_XQmlHsE3CJndj\"\n",
    "client_secret = \"dSN2w3H_Sh\"\n",
    "\n",
    "request = urllib.request.Request(url)\n",
    "\n",
    "#헤더 추가 : 매뉴얼 확인해야 함\n",
    "request.add_header(\"X-Naver-Client-Id\",client_id)\n",
    "request.add_header(\"X-Naver-Client-Secret\",client_secret)\n",
    "\n",
    "#응답 받기\n",
    "response = urllib.request.urlopen(request)\n",
    "print(\"상태 코드:\",response.getcode())\n",
    "\n",
    "json_text = response.read().decode(\"utf-8\")\n",
    "print(\"json:\",json_text)"
   ]
  },
  {
   "cell_type": "code",
   "execution_count": null,
   "metadata": {},
   "outputs": [],
   "source": [
    "#json 객체로 변환\n",
    "# items 노드를 반환\n",
    "import json\n",
    "\n",
    "json_obj = json.loads(json_text)\n",
    "json_obj\n",
    "\n",
    "news_items = json_obj['items']\n",
    "news_items[0]\n",
    "\n",
    "print(\"네이버 뉴스 검색\")\n",
    "for news in news_items:\n",
    "    print(\"{title}@{pubDate}: {link}\".format_map(news))"
   ]
  }
 ],
 "metadata": {
  "kernelspec": {
   "display_name": "Python 3",
   "language": "python",
   "name": "python3"
  },
  "language_info": {
   "codemirror_mode": {
    "name": "ipython",
    "version": 3
   },
   "file_extension": ".py",
   "mimetype": "text/x-python",
   "name": "python",
   "nbconvert_exporter": "python",
   "pygments_lexer": "ipython3",
   "version": "3.8.2"
  }
 },
 "nbformat": 4,
 "nbformat_minor": 4
}
