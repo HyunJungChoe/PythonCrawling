{
 "cells": [
  {
   "cell_type": "markdown",
   "metadata": {},
   "source": [
    "# 다음 뉴스 스크랩\n",
    "## 파이썬을 이용한 웹 스크랩 \n",
    "<li>"
   ]
  },
  {
   "cell_type": "code",
   "execution_count": null,
   "metadata": {},
   "outputs": [],
   "source": [
    "from urllib.request import urlopen\n",
    "# media.daum에 요청을 전달\n",
    "req = urlopen('https://news.daum.net/')\n",
    "\n",
    "#요청의 결과 확인\n",
    "print(\"응답 코드:\", req.getcode())\n",
    "\n",
    "#데이터 받아오기\n",
    "html = req.read()\n",
    "html = html.decode(\"utf-8\")\n",
    "print(html)\n",
    "\n"
   ]
  },
  {
   "cell_type": "code",
   "execution_count": null,
   "metadata": {},
   "outputs": [],
   "source": [
    "from urllib.request import urlopen\n",
    "from bs4 import BeautifulSoup\n",
    "# 전달 받은 html을 DCM트리로 변환\n",
    "soup = BeautifulSoup(html, \"html.parser\") # html text -> DCM 트리 객체로 변환 \n",
    "# print(soup.prettify())\n",
    "\n",
    "#문서 정보 확인\n",
    "print(\"문서의 제목:\", soup.title,type(soup.title)) # type -> Tag\n",
    "print(soup.title.name) \n",
    "print(\"태그 컨텐츠:\", soup.title.text)\n",
    "print(\"태그 컨텐츠 문자열:\", soup.title.string)\n",
    "\n"
   ]
  },
  {
   "cell_type": "code",
   "execution_count": null,
   "metadata": {},
   "outputs": [],
   "source": [
    "print(soup.html)\n",
    "print(soup,html.children) # html 자식 노드\n",
    "# html의 자식 노드 순환\n",
    "from bs4.element import Tag\n",
    "\n",
    "for node in soup.html.children:\n",
    "    if isinstance(node, Tag):\n",
    "        print(\"html has {} (type: {})\".format(node.name, type(node)))"
   ]
  },
  {
   "cell_type": "code",
   "execution_count": null,
   "metadata": {},
   "outputs": [],
   "source": [
    "# body 태그 확인\n",
    "body = soup.body\n",
    "print(\"body:\",body.name,type(body))\n",
    "\n",
    "# 부모 확인 \n",
    "print(\"body부모 :\",body.parent.name)\n",
    "print(body.parent == soup.html)\n"
   ]
  },
  {
   "cell_type": "code",
   "execution_count": null,
   "metadata": {
    "scrolled": false
   },
   "outputs": [],
   "source": [
    "#soup 객체에서 주요 뉴스 항목을 찾아 뉴스 수집\n",
    "# div#mAticle\n",
    "articles = soup.select(\"div#mArticle\")[0]\n",
    "# print(articles)\n",
    "\n",
    "links = articles.select(\"a.link_txt\")\n",
    "# print(links)\n",
    "news_list =[]\n",
    "\n",
    "for link in links:\n",
    "    news_list.append({\n",
    "        \"link\": link['href'],\n",
    "        \"title\": link.text.strip()\n",
    "        \n",
    "    })\n",
    "    \n",
    "print(\"다음 주요뉴스:\")\n",
    "for news in news_list:\n",
    "    print(\"{} : {}\".format(news['title'], news['link']))"
   ]
  },
  {
   "cell_type": "code",
   "execution_count": null,
   "metadata": {},
   "outputs": [],
   "source": [
    "# TODO 상단 뉴스 받아오기 연습"
   ]
  },
  {
   "cell_type": "code",
   "execution_count": null,
   "metadata": {},
   "outputs": [],
   "source": []
  }
 ],
 "metadata": {
  "kernelspec": {
   "display_name": "Python 3",
   "language": "python",
   "name": "python3"
  },
  "language_info": {
   "codemirror_mode": {
    "name": "ipython",
    "version": 3
   },
   "file_extension": ".py",
   "mimetype": "text/x-python",
   "name": "python",
   "nbconvert_exporter": "python",
   "pygments_lexer": "ipython3",
   "version": "3.8.2"
  }
 },
 "nbformat": 4,
 "nbformat_minor": 4
}
